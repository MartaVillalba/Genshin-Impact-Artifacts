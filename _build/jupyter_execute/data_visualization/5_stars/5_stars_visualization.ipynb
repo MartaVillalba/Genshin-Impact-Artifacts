{
 "cells": [
  {
   "cell_type": "markdown",
   "id": "1bfeed87-c090-4136-a989-e9b31e5e7499",
   "metadata": {},
   "source": [
    "# 5 stars artifacts"
   ]
  },
  {
   "cell_type": "code",
   "execution_count": null,
   "id": "5dea0ac4-78ba-45cb-b56c-95cd2b69ddaf",
   "metadata": {},
   "outputs": [],
   "source": []
  }
 ],
 "metadata": {
  "kernelspec": {
   "display_name": "Python 3 (ipykernel)",
   "language": "python",
   "name": "python3"
  },
  "language_info": {
   "codemirror_mode": {
    "name": "ipython",
    "version": 3
   },
   "file_extension": ".py",
   "mimetype": "text/x-python",
   "name": "python",
   "nbconvert_exporter": "python",
   "pygments_lexer": "ipython3",
   "version": "3.8.12"
  }
 },
 "nbformat": 4,
 "nbformat_minor": 5
}