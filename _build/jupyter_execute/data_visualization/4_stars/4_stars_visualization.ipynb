{
 "cells": [
  {
   "cell_type": "markdown",
   "id": "657685b2-801f-43cf-bda5-a03249b1362c",
   "metadata": {},
   "source": [
    "# 4 stars artifacts"
   ]
  },
  {
   "cell_type": "code",
   "execution_count": null,
   "id": "f6274d83-5354-42dc-81a0-534a8e6ffae8",
   "metadata": {},
   "outputs": [],
   "source": []
  }
 ],
 "metadata": {
  "kernelspec": {
   "display_name": "Python 3 (ipykernel)",
   "language": "python",
   "name": "python3"
  },
  "language_info": {
   "codemirror_mode": {
    "name": "ipython",
    "version": 3
   },
   "file_extension": ".py",
   "mimetype": "text/x-python",
   "name": "python",
   "nbconvert_exporter": "python",
   "pygments_lexer": "ipython3",
   "version": "3.8.12"
  }
 },
 "nbformat": 4,
 "nbformat_minor": 5
}